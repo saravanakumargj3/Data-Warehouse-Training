{
  "nbformat": 4,
  "nbformat_minor": 0,
  "metadata": {
    "colab": {
      "provenance": []
    },
    "kernelspec": {
      "name": "python3",
      "display_name": "Python 3"
    },
    "language_info": {
      "name": "python"
    }
  },
  "cells": [
    {
      "cell_type": "code",
      "execution_count": 1,
      "metadata": {
        "id": "P9_nMsk0_tXp"
      },
      "outputs": [],
      "source": [
        "!pip install pyspark dask[dataframe] --quiet\n",
        "\n",
        "import pandas as pd\n",
        "import dask.dataframe as dd\n",
        "from pyspark.sql import SparkSession\n",
        "from pyspark.sql.functions import col\n",
        "\n",
        "# Start Spark session\n",
        "spark = SparkSession.builder.appName(\"SalesDataAnalysis\").getOrCreate()\n"
      ]
    },
    {
      "cell_type": "code",
      "source": [
        "from google.colab import drive\n",
        "drive.mount('/content/drive')\n",
        "#  1. DataFrame Creation and Inspection\n",
        "df = spark.read.csv(\"/content/drive/MyDrive/Sales_Dataset__500_Records_.csv\", header=True, inferSchema=True)\n",
        "\n",
        "# Show schema to verify\n",
        "df.printSchema()"
      ],
      "metadata": {
        "colab": {
          "base_uri": "https://localhost:8080/"
        },
        "id": "9wWLImehAPzm",
        "outputId": "fac7c134-3176-4ae5-bc2c-2f9574c2253f"
      },
      "execution_count": 2,
      "outputs": [
        {
          "output_type": "stream",
          "name": "stdout",
          "text": [
            "Mounted at /content/drive\n",
            "root\n",
            " |-- OrderID: integer (nullable = true)\n",
            " |-- CustomerName: string (nullable = true)\n",
            " |-- ProductCategory: string (nullable = true)\n",
            " |-- Amount: double (nullable = true)\n",
            " |-- OrderDate: date (nullable = true)\n",
            " |-- DeliveryStatus: string (nullable = true)\n",
            " |-- Discount: double (nullable = true)\n",
            " |-- City: string (nullable = true)\n",
            " |-- PaymentMode: string (nullable = true)\n",
            " |-- CustomerSince: date (nullable = true)\n",
            "\n"
          ]
        }
      ]
    },
    {
      "cell_type": "code",
      "source": [
        "df.show(5)  # First 5 records\n",
        "df.tail(5)  # Last 5 is not available in PySpark directly; use this:\n",
        "df.orderBy(\"OrderID\", ascending=False).show(5)\n",
        "\n",
        "# df.printSchema()\n",
        "df.dtypes\n"
      ],
      "metadata": {
        "colab": {
          "base_uri": "https://localhost:8080/"
        },
        "id": "E43DvpGEAlgQ",
        "outputId": "85d99f2a-b627-4929-e84d-2242f913086e"
      },
      "execution_count": 5,
      "outputs": [
        {
          "output_type": "stream",
          "name": "stdout",
          "text": [
            "+-------+--------------+---------------+------+----------+--------------+--------+----------------+-----------+-------------+\n",
            "|OrderID|  CustomerName|ProductCategory|Amount| OrderDate|DeliveryStatus|Discount|            City|PaymentMode|CustomerSince|\n",
            "+-------+--------------+---------------+------+----------+--------------+--------+----------------+-----------+-------------+\n",
            "|   2824| Donald Walker|          Books|783.04|2024-12-26|      Returned|    0.15|    Lake Joyside|Credit Card|   2020-10-15|\n",
            "|   7912|  Brandon Hall|      Groceries| 905.0|2024-09-12|     Cancelled|    0.03|   New Jamesside|     Wallet|   2022-03-15|\n",
            "|   4611|  Donald Booth|        Fashion|657.96|2025-01-12|      Returned|    0.01|    Lake Roberto|     Wallet|   2021-08-07|\n",
            "|   3547|Phillip Garcia|        Fashion|606.89|2024-03-24|      Returned|    0.15|West Melanieview|     Wallet|   2020-08-08|\n",
            "|   8527|  Valerie Gray|           Toys| 77.87|2024-08-04|     Delivered|    0.17|       Mariastad|       Cash|   2022-11-15|\n",
            "+-------+--------------+---------------+------+----------+--------------+--------+----------------+-----------+-------------+\n",
            "only showing top 5 rows\n",
            "\n",
            "+-------+-----------------+---------------+------+----------+--------------+--------+-----------+-----------+-------------+\n",
            "|OrderID|     CustomerName|ProductCategory|Amount| OrderDate|DeliveryStatus|Discount|       City|PaymentMode|CustomerSince|\n",
            "+-------+-----------------+---------------+------+----------+--------------+--------+-----------+-----------+-------------+\n",
            "|   9996|    Brandon Munoz|           Toys|839.38|2024-09-25|     Delivered|    0.08| Pamelaside|Credit Card|   2021-04-19|\n",
            "|   9992|   Joshua Roberts|          Books|960.97|2023-07-25|       Pending|     0.2| Coreyshire|     Wallet|   2022-06-28|\n",
            "|   9970|Elizabeth Goodman|           Toys|821.02|2025-05-04|     Cancelled|    0.29| Jasonhaven|       Cash|   2021-01-09|\n",
            "|   9962|   Vanessa Morgan|           Toys|701.01|2024-09-21|       Pending|    0.06|Bushchester|       Cash|   2023-03-14|\n",
            "|   9920|       James Hall|           Toys| 280.8|2024-05-25|     Cancelled|    0.28|Ericborough|     Wallet|   2020-11-24|\n",
            "+-------+-----------------+---------------+------+----------+--------------+--------+-----------+-----------+-------------+\n",
            "only showing top 5 rows\n",
            "\n",
            "root\n",
            " |-- OrderID: integer (nullable = true)\n",
            " |-- CustomerName: string (nullable = true)\n",
            " |-- ProductCategory: string (nullable = true)\n",
            " |-- Amount: double (nullable = true)\n",
            " |-- OrderDate: date (nullable = true)\n",
            " |-- DeliveryStatus: string (nullable = true)\n",
            " |-- Discount: double (nullable = true)\n",
            " |-- City: string (nullable = true)\n",
            " |-- PaymentMode: string (nullable = true)\n",
            " |-- CustomerSince: date (nullable = true)\n",
            "\n"
          ]
        },
        {
          "output_type": "execute_result",
          "data": {
            "text/plain": [
              "[('OrderID', 'int'),\n",
              " ('CustomerName', 'string'),\n",
              " ('ProductCategory', 'string'),\n",
              " ('Amount', 'double'),\n",
              " ('OrderDate', 'date'),\n",
              " ('DeliveryStatus', 'string'),\n",
              " ('Discount', 'double'),\n",
              " ('City', 'string'),\n",
              " ('PaymentMode', 'string'),\n",
              " ('CustomerSince', 'date')]"
            ]
          },
          "metadata": {},
          "execution_count": 5
        }
      ]
    },
    {
      "cell_type": "code",
      "source": [
        "# Task 2: Selection, Renaming, Filtering\n",
        "# Select columns\n",
        "df_selected = df.select(\"OrderID\", \"CustomerName\", \"Amount\")\n",
        "df_selected.show(5)"
      ],
      "metadata": {
        "colab": {
          "base_uri": "https://localhost:8080/"
        },
        "id": "orL6n0JSBlFg",
        "outputId": "d3a4dadd-c38a-45db-ab36-dcbd21a59aaa"
      },
      "execution_count": 9,
      "outputs": [
        {
          "output_type": "stream",
          "name": "stdout",
          "text": [
            "+-------+--------------+------+\n",
            "|OrderID|  CustomerName|Amount|\n",
            "+-------+--------------+------+\n",
            "|   2824| Donald Walker|783.04|\n",
            "|   7912|  Brandon Hall| 905.0|\n",
            "|   4611|  Donald Booth|657.96|\n",
            "|   3547|Phillip Garcia|606.89|\n",
            "|   8527|  Valerie Gray| 77.87|\n",
            "+-------+--------------+------+\n",
            "only showing top 5 rows\n",
            "\n"
          ]
        }
      ]
    },
    {
      "cell_type": "code",
      "source": [
        "# Rename Amount\n",
        "df_renamed = df_selected.withColumnRenamed(\"Amount\", \"OrderAmount\")\n",
        "df_renamed.show(5)"
      ],
      "metadata": {
        "colab": {
          "base_uri": "https://localhost:8080/"
        },
        "id": "tRUfYs2yBzoR",
        "outputId": "9c5c0e62-d456-47d7-cf9e-633536a79536"
      },
      "execution_count": 10,
      "outputs": [
        {
          "output_type": "stream",
          "name": "stdout",
          "text": [
            "+-------+--------------+-----------+\n",
            "|OrderID|  CustomerName|OrderAmount|\n",
            "+-------+--------------+-----------+\n",
            "|   2824| Donald Walker|     783.04|\n",
            "|   7912|  Brandon Hall|      905.0|\n",
            "|   4611|  Donald Booth|     657.96|\n",
            "|   3547|Phillip Garcia|     606.89|\n",
            "|   8527|  Valerie Gray|      77.87|\n",
            "+-------+--------------+-----------+\n",
            "only showing top 5 rows\n",
            "\n"
          ]
        }
      ]
    },
    {
      "cell_type": "code",
      "source": [
        "# Filter Amount > 500\n",
        "df_filtered_amount = df.filter(col(\"Amount\") > 500)\n",
        "df_filtered_amount.show(5)"
      ],
      "metadata": {
        "colab": {
          "base_uri": "https://localhost:8080/"
        },
        "id": "HX-SxoQOB2ii",
        "outputId": "5e1bfa0a-174f-479b-ace1-ce9e35fd32dc"
      },
      "execution_count": 12,
      "outputs": [
        {
          "output_type": "stream",
          "name": "stdout",
          "text": [
            "+-------+------------------+---------------+------+----------+--------------+--------+----------------+-----------+-------------+\n",
            "|OrderID|      CustomerName|ProductCategory|Amount| OrderDate|DeliveryStatus|Discount|            City|PaymentMode|CustomerSince|\n",
            "+-------+------------------+---------------+------+----------+--------------+--------+----------------+-----------+-------------+\n",
            "|   2824|     Donald Walker|          Books|783.04|2024-12-26|      Returned|    0.15|    Lake Joyside|Credit Card|   2020-10-15|\n",
            "|   7912|      Brandon Hall|      Groceries| 905.0|2024-09-12|     Cancelled|    0.03|   New Jamesside|     Wallet|   2022-03-15|\n",
            "|   4611|      Donald Booth|        Fashion|657.96|2025-01-12|      Returned|    0.01|    Lake Roberto|     Wallet|   2021-08-07|\n",
            "|   3547|    Phillip Garcia|        Fashion|606.89|2024-03-24|      Returned|    0.15|West Melanieview|     Wallet|   2020-08-08|\n",
            "|   6155|Jonathan Wilkerson|        Fashion|882.68|2024-10-14|     Cancelled|    0.27|      Thomasberg|       Cash|   2021-06-20|\n",
            "+-------+------------------+---------------+------+----------+--------------+--------+----------------+-----------+-------------+\n",
            "only showing top 5 rows\n",
            "\n"
          ]
        }
      ]
    },
    {
      "cell_type": "code",
      "source": [
        "# Filter by city\n",
        "df_filtered_city = df.filter(col(\"City\") == \"Lake Joyside\")\n",
        "df_filtered_city.show(5)"
      ],
      "metadata": {
        "colab": {
          "base_uri": "https://localhost:8080/"
        },
        "id": "7DEDqd_rCB9A",
        "outputId": "36891171-24d5-4af0-f711-3871e51edf60"
      },
      "execution_count": 15,
      "outputs": [
        {
          "output_type": "stream",
          "name": "stdout",
          "text": [
            "+-------+-------------+---------------+------+----------+--------------+--------+------------+-----------+-------------+\n",
            "|OrderID| CustomerName|ProductCategory|Amount| OrderDate|DeliveryStatus|Discount|        City|PaymentMode|CustomerSince|\n",
            "+-------+-------------+---------------+------+----------+--------------+--------+------------+-----------+-------------+\n",
            "|   2824|Donald Walker|          Books|783.04|2024-12-26|      Returned|    0.15|Lake Joyside|Credit Card|   2020-10-15|\n",
            "+-------+-------------+---------------+------+----------+--------------+--------+------------+-----------+-------------+\n",
            "\n"
          ]
        }
      ]
    },
    {
      "cell_type": "code",
      "source": [
        "# Task 3: Data Manipulation\n",
        "# Drop CustomerSince column\n",
        "df_dropped = df.drop(\"CustomerSince\")\n",
        "df_dropped.show(5)"
      ],
      "metadata": {
        "colab": {
          "base_uri": "https://localhost:8080/"
        },
        "id": "PeajU_O0CIYi",
        "outputId": "5030a3c9-3261-4032-d650-f13affb796a7"
      },
      "execution_count": 18,
      "outputs": [
        {
          "output_type": "stream",
          "name": "stdout",
          "text": [
            "+-------+--------------+---------------+------+----------+--------------+--------+----------------+-----------+\n",
            "|OrderID|  CustomerName|ProductCategory|Amount| OrderDate|DeliveryStatus|Discount|            City|PaymentMode|\n",
            "+-------+--------------+---------------+------+----------+--------------+--------+----------------+-----------+\n",
            "|   2824| Donald Walker|          Books|783.04|2024-12-26|      Returned|    0.15|    Lake Joyside|Credit Card|\n",
            "|   7912|  Brandon Hall|      Groceries| 905.0|2024-09-12|     Cancelled|    0.03|   New Jamesside|     Wallet|\n",
            "|   4611|  Donald Booth|        Fashion|657.96|2025-01-12|      Returned|    0.01|    Lake Roberto|     Wallet|\n",
            "|   3547|Phillip Garcia|        Fashion|606.89|2024-03-24|      Returned|    0.15|West Melanieview|     Wallet|\n",
            "|   8527|  Valerie Gray|           Toys| 77.87|2024-08-04|     Delivered|    0.17|       Mariastad|       Cash|\n",
            "+-------+--------------+---------------+------+----------+--------------+--------+----------------+-----------+\n",
            "only showing top 5 rows\n",
            "\n"
          ]
        }
      ]
    },
    {
      "cell_type": "code",
      "source": [
        "# FinalAmount = Amount - (Amount * Discount)\n",
        "df=df.withColumn(\"FinalAmount\", col(\"Amount\") - (col(\"Amount\") * col(\"Discount\")))\n",
        "df.show(5)"
      ],
      "metadata": {
        "colab": {
          "base_uri": "https://localhost:8080/"
        },
        "id": "DJf9DbK1Cef9",
        "outputId": "121de3cd-e01f-464d-abaf-f58ed32a8d02"
      },
      "execution_count": 19,
      "outputs": [
        {
          "output_type": "stream",
          "name": "stdout",
          "text": [
            "+-------+--------------+---------------+------+----------+--------------+--------+----------------+-----------+-------------+-----------------+\n",
            "|OrderID|  CustomerName|ProductCategory|Amount| OrderDate|DeliveryStatus|Discount|            City|PaymentMode|CustomerSince|      FinalAmount|\n",
            "+-------+--------------+---------------+------+----------+--------------+--------+----------------+-----------+-------------+-----------------+\n",
            "|   2824| Donald Walker|          Books|783.04|2024-12-26|      Returned|    0.15|    Lake Joyside|Credit Card|   2020-10-15|          665.584|\n",
            "|   7912|  Brandon Hall|      Groceries| 905.0|2024-09-12|     Cancelled|    0.03|   New Jamesside|     Wallet|   2022-03-15|           877.85|\n",
            "|   4611|  Donald Booth|        Fashion|657.96|2025-01-12|      Returned|    0.01|    Lake Roberto|     Wallet|   2021-08-07|         651.3804|\n",
            "|   3547|Phillip Garcia|        Fashion|606.89|2024-03-24|      Returned|    0.15|West Melanieview|     Wallet|   2020-08-08|         515.8565|\n",
            "|   8527|  Valerie Gray|           Toys| 77.87|2024-08-04|     Delivered|    0.17|       Mariastad|       Cash|   2022-11-15|64.63210000000001|\n",
            "+-------+--------------+---------------+------+----------+--------------+--------+----------------+-----------+-------------+-----------------+\n",
            "only showing top 5 rows\n",
            "\n"
          ]
        }
      ]
    },
    {
      "cell_type": "code",
      "source": [
        "# Sort by FinalAmount descending\n",
        "df_sorted = df.orderBy(col(\"FinalAmount\").desc())\n",
        "df_sorted.show(5)"
      ],
      "metadata": {
        "colab": {
          "base_uri": "https://localhost:8080/"
        },
        "id": "FVq0mwD_Cu8Z",
        "outputId": "c47c6033-6c13-4647-db7a-cb5d0c17f09a"
      },
      "execution_count": 21,
      "outputs": [
        {
          "output_type": "stream",
          "name": "stdout",
          "text": [
            "+-------+--------------+---------------+------+----------+--------------+--------+------------+-----------+-------------+-----------------+\n",
            "|OrderID|  CustomerName|ProductCategory|Amount| OrderDate|DeliveryStatus|Discount|        City|PaymentMode|CustomerSince|      FinalAmount|\n",
            "+-------+--------------+---------------+------+----------+--------------+--------+------------+-----------+-------------+-----------------+\n",
            "|   5573|Jordan Frazier|          Books|981.05|2025-03-19|     Cancelled|    0.02| Sheilaville|       Cash|   2021-07-12|          961.429|\n",
            "|   8474|   Heidi Brown|    Electronics|968.91|2023-11-23|     Cancelled|    0.02|  Riverafort|       Cash|   2023-03-19|         949.5318|\n",
            "|   8889|   Karen Garza|          Books| 998.3|2024-10-17|     Cancelled|    0.06|  Johnsonton|Credit Card|   2020-12-17|938.4019999999999|\n",
            "|   2127|  Jaclyn Moore|      Groceries|933.32|2025-03-11|      Returned|    0.01| Cherylhaven|       Cash|   2020-06-14|         923.9868|\n",
            "|   9806| Samantha Gill|      Groceries|993.17|2024-11-12|     Cancelled|    0.07|New Seanstad|     Wallet|   2020-10-01|         923.6481|\n",
            "+-------+--------------+---------------+------+----------+--------------+--------+------------+-----------+-------------+-----------------+\n",
            "only showing top 5 rows\n",
            "\n"
          ]
        }
      ]
    },
    {
      "cell_type": "code",
      "source": [
        "# Replace “Cancelled” with “Order Cancelled”\n",
        "from pyspark.sql.functions import col, when, year, month, current_date, datediff, to_date, expr, lit\n",
        "df_replaced = df.withColumn(\"DeliveryStatus\", when(col(\"DeliveryStatus\") == \"Cancelled\", \"Order Cancelled\").otherwise(col(\"DeliveryStatus\")))\n",
        "df_replaced.show(5)"
      ],
      "metadata": {
        "colab": {
          "base_uri": "https://localhost:8080/"
        },
        "id": "dY4pP_6wC4Rx",
        "outputId": "7795ef92-2ba7-4f40-facb-0f11bd54fc78"
      },
      "execution_count": 24,
      "outputs": [
        {
          "output_type": "stream",
          "name": "stdout",
          "text": [
            "+-------+--------------+---------------+------+----------+---------------+--------+----------------+-----------+-------------+-----------------+\n",
            "|OrderID|  CustomerName|ProductCategory|Amount| OrderDate| DeliveryStatus|Discount|            City|PaymentMode|CustomerSince|      FinalAmount|\n",
            "+-------+--------------+---------------+------+----------+---------------+--------+----------------+-----------+-------------+-----------------+\n",
            "|   2824| Donald Walker|          Books|783.04|2024-12-26|       Returned|    0.15|    Lake Joyside|Credit Card|   2020-10-15|          665.584|\n",
            "|   7912|  Brandon Hall|      Groceries| 905.0|2024-09-12|Order Cancelled|    0.03|   New Jamesside|     Wallet|   2022-03-15|           877.85|\n",
            "|   4611|  Donald Booth|        Fashion|657.96|2025-01-12|       Returned|    0.01|    Lake Roberto|     Wallet|   2021-08-07|         651.3804|\n",
            "|   3547|Phillip Garcia|        Fashion|606.89|2024-03-24|       Returned|    0.15|West Melanieview|     Wallet|   2020-08-08|         515.8565|\n",
            "|   8527|  Valerie Gray|           Toys| 77.87|2024-08-04|      Delivered|    0.17|       Mariastad|       Cash|   2022-11-15|64.63210000000001|\n",
            "+-------+--------------+---------------+------+----------+---------------+--------+----------------+-----------+-------------+-----------------+\n",
            "only showing top 5 rows\n",
            "\n"
          ]
        }
      ]
    },
    {
      "cell_type": "code",
      "source": [
        "# Task 4: Aggregations and GroupBy\n",
        "# Count of orders by DeliveryStatus\n",
        "df.groupBy(\"DeliveryStatus\").count().show()"
      ],
      "metadata": {
        "colab": {
          "base_uri": "https://localhost:8080/"
        },
        "id": "cIBlMT5GDTIF",
        "outputId": "cc390339-ad05-4434-e23a-c4eca53154d3"
      },
      "execution_count": 25,
      "outputs": [
        {
          "output_type": "stream",
          "name": "stdout",
          "text": [
            "+--------------+-----+\n",
            "|DeliveryStatus|count|\n",
            "+--------------+-----+\n",
            "|      Returned|  117|\n",
            "|     Cancelled|  149|\n",
            "|     Delivered|  119|\n",
            "|       Pending|  115|\n",
            "+--------------+-----+\n",
            "\n"
          ]
        }
      ]
    },
    {
      "cell_type": "code",
      "source": [
        "# Average Amount by ProductCategory\n",
        "df.groupBy(\"ProductCategory\").avg(\"Amount\").show()"
      ],
      "metadata": {
        "colab": {
          "base_uri": "https://localhost:8080/"
        },
        "id": "g1G2TFNXDZzl",
        "outputId": "172bff34-17ed-4fbd-a88e-b3943fad1acd"
      },
      "execution_count": 26,
      "outputs": [
        {
          "output_type": "stream",
          "name": "stdout",
          "text": [
            "+---------------+------------------+\n",
            "|ProductCategory|       avg(Amount)|\n",
            "+---------------+------------------+\n",
            "|        Fashion| 500.6308235294116|\n",
            "|      Groceries|459.51786407766957|\n",
            "|    Electronics|           551.745|\n",
            "|          Books| 568.6003773584907|\n",
            "|           Toys| 534.2837499999999|\n",
            "+---------------+------------------+\n",
            "\n"
          ]
        }
      ]
    },
    {
      "cell_type": "code",
      "source": [
        "# Group by City and show total sales\n",
        "df.groupBy(\"City\").sum(\"Amount\").withColumnRenamed(\"sum(Amount)\", \"TotalSales\").show()"
      ],
      "metadata": {
        "colab": {
          "base_uri": "https://localhost:8080/"
        },
        "id": "hZzC0b4XDc41",
        "outputId": "69dde7f8-9e35-4ab3-f03f-dbeb2d830075"
      },
      "execution_count": 27,
      "outputs": [
        {
          "output_type": "stream",
          "name": "stdout",
          "text": [
            "+----------------+----------+\n",
            "|            City|TotalSales|\n",
            "+----------------+----------+\n",
            "|     Ramseymouth|    761.06|\n",
            "|East Edwardshire|    291.26|\n",
            "|      Thomasberg|    882.68|\n",
            "|     Laurenville|    383.26|\n",
            "| South Colinstad|    786.27|\n",
            "|    Lake Douglas|    975.09|\n",
            "|   Williamsmouth|     10.78|\n",
            "|      Gordonport|    514.99|\n",
            "|  West Dawnmouth|      12.8|\n",
            "|        Seanbury|    814.39|\n",
            "|     Sheilaville|    981.05|\n",
            "|       Mollybury|    222.02|\n",
            "|       Lisaville|     45.69|\n",
            "| Lake Jerrymouth|    404.01|\n",
            "|       Perezfort|    917.55|\n",
            "|Port Nicoleshire|    133.78|\n",
            "|  South Samantha|    229.46|\n",
            "|     Port Willie|    788.13|\n",
            "|     Waltersfort|    552.81|\n",
            "|       Youngbury|    372.95|\n",
            "+----------------+----------+\n",
            "only showing top 20 rows\n",
            "\n"
          ]
        }
      ]
    },
    {
      "cell_type": "code",
      "source": [
        "# Task 5: Null Handling & Update\n",
        "# Inject nulls randomly into City (for simulation)\n",
        "from pyspark.sql.functions import rand\n",
        "df_with_nulls = df.withColumn(\"City\", when(rand() < 0.1, None).otherwise(col(\"City\")))\n",
        "df_with_nulls.show()"
      ],
      "metadata": {
        "colab": {
          "base_uri": "https://localhost:8080/"
        },
        "id": "Q6P412W0Dgk2",
        "outputId": "5ec6823d-08c1-4242-d526-055b015c63d6"
      },
      "execution_count": 30,
      "outputs": [
        {
          "output_type": "stream",
          "name": "stdout",
          "text": [
            "+-------+------------------+---------------+------+----------+--------------+--------+-----------------+-----------+-------------+------------------+\n",
            "|OrderID|      CustomerName|ProductCategory|Amount| OrderDate|DeliveryStatus|Discount|             City|PaymentMode|CustomerSince|       FinalAmount|\n",
            "+-------+------------------+---------------+------+----------+--------------+--------+-----------------+-----------+-------------+------------------+\n",
            "|   2824|     Donald Walker|          Books|783.04|2024-12-26|      Returned|    0.15|     Lake Joyside|Credit Card|   2020-10-15|           665.584|\n",
            "|   7912|      Brandon Hall|      Groceries| 905.0|2024-09-12|     Cancelled|    0.03|    New Jamesside|     Wallet|   2022-03-15|            877.85|\n",
            "|   4611|      Donald Booth|        Fashion|657.96|2025-01-12|      Returned|    0.01|     Lake Roberto|     Wallet|   2021-08-07|          651.3804|\n",
            "|   3547|    Phillip Garcia|        Fashion|606.89|2024-03-24|      Returned|    0.15| West Melanieview|     Wallet|   2020-08-08|          515.8565|\n",
            "|   8527|      Valerie Gray|           Toys| 77.87|2024-08-04|     Delivered|    0.17|        Mariastad|       Cash|   2022-11-15| 64.63210000000001|\n",
            "|   4150|       Amber Perez|          Books|352.37|2024-01-13|     Cancelled|    0.24|  Port Jesseville|       Cash|   2022-01-13|          267.8012|\n",
            "|   5554|        Roy Martin|           Toys|148.33|2024-03-04|     Cancelled|    0.27|             NULL|       Cash|   2023-04-29|          108.2809|\n",
            "|   2169|    Carolyn Daniel|    Electronics| 14.09|2023-10-07|     Delivered|    0.25|         Grayside|Credit Card|   2021-05-09|10.567499999999999|\n",
            "|   6313|       Patty Perez|      Groceries| 79.83|2023-06-27|     Cancelled|    0.12|      Richardland|Credit Card|   2021-04-25|           70.2504|\n",
            "|   6155|Jonathan Wilkerson|        Fashion|882.68|2024-10-14|     Cancelled|    0.27|             NULL|       Cash|   2021-06-20| 644.3563999999999|\n",
            "|   9830|       Kevin Hurst|          Books|870.55|2024-04-08|     Delivered|    0.22|      Jeffreyberg|     Wallet|   2022-08-02|           679.029|\n",
            "|   9085| Anthony Rodriguez|      Groceries|921.73|2024-10-02|     Cancelled|    0.03|        Port Erin|        UPI|   2022-12-15| 894.0781000000001|\n",
            "|   2040|     Kyle Mcdonald|           Toys|327.52|2023-12-15|      Returned|    0.06|Lake Jenniferside|     Wallet|   2021-07-21|307.86879999999996|\n",
            "|   6573|    Jeffrey Chavez|          Books|676.02|2024-12-14|     Cancelled|    0.19|      Teresaburgh|     Wallet|   2022-07-30|          547.5762|\n",
            "|   2743|  Elizabeth Fowler|    Electronics| 47.06|2024-09-18|     Delivered|    0.13|   East Nathaniel|       Cash|   2021-02-07|           40.9422|\n",
            "|   9837|     Tammy Sellers|          Books| 46.15|2024-09-10|     Cancelled|    0.05|       Tracyville|        UPI|   2021-12-17|           43.8425|\n",
            "|   6038|     David Bradley|        Fashion|348.51|2023-08-03|      Returned|    0.23|    Lake Toddland|        UPI|   2022-09-07|268.35269999999997|\n",
            "|   3060|       John Pierce|           Toys|362.09|2023-12-25|      Returned|    0.03|       Brandtside|       Cash|   2023-05-09|351.22729999999996|\n",
            "|   4295|   Jennifer Powers|    Electronics|684.26|2024-03-19|     Cancelled|    0.21|         Lammouth|        UPI|   2020-12-06|          540.5654|\n",
            "|   5061|    George Chapman|    Electronics|251.89|2023-11-28|       Pending|    0.27|       North Chad|       Cash|   2023-02-07|183.87969999999999|\n",
            "+-------+------------------+---------------+------+----------+--------------+--------+-----------------+-----------+-------------+------------------+\n",
            "only showing top 20 rows\n",
            "\n"
          ]
        }
      ]
    },
    {
      "cell_type": "code",
      "source": [
        "# Handle nulls: fillna and dropna\n",
        "df_fillna = df_with_nulls.fillna({\"City\": \"Unknown\"}).show()\n",
        "df_dropna = df_with_nulls.dropna(subset=[\"City\"]).show()"
      ],
      "metadata": {
        "colab": {
          "base_uri": "https://localhost:8080/"
        },
        "id": "MpoSMwSsDxZA",
        "outputId": "e66e56f9-ee87-4537-83db-45035f0eee6f"
      },
      "execution_count": 31,
      "outputs": [
        {
          "output_type": "stream",
          "name": "stdout",
          "text": [
            "+-------+------------------+---------------+------+----------+--------------+--------+-----------------+-----------+-------------+------------------+\n",
            "|OrderID|      CustomerName|ProductCategory|Amount| OrderDate|DeliveryStatus|Discount|             City|PaymentMode|CustomerSince|       FinalAmount|\n",
            "+-------+------------------+---------------+------+----------+--------------+--------+-----------------+-----------+-------------+------------------+\n",
            "|   2824|     Donald Walker|          Books|783.04|2024-12-26|      Returned|    0.15|     Lake Joyside|Credit Card|   2020-10-15|           665.584|\n",
            "|   7912|      Brandon Hall|      Groceries| 905.0|2024-09-12|     Cancelled|    0.03|    New Jamesside|     Wallet|   2022-03-15|            877.85|\n",
            "|   4611|      Donald Booth|        Fashion|657.96|2025-01-12|      Returned|    0.01|     Lake Roberto|     Wallet|   2021-08-07|          651.3804|\n",
            "|   3547|    Phillip Garcia|        Fashion|606.89|2024-03-24|      Returned|    0.15| West Melanieview|     Wallet|   2020-08-08|          515.8565|\n",
            "|   8527|      Valerie Gray|           Toys| 77.87|2024-08-04|     Delivered|    0.17|        Mariastad|       Cash|   2022-11-15| 64.63210000000001|\n",
            "|   4150|       Amber Perez|          Books|352.37|2024-01-13|     Cancelled|    0.24|  Port Jesseville|       Cash|   2022-01-13|          267.8012|\n",
            "|   5554|        Roy Martin|           Toys|148.33|2024-03-04|     Cancelled|    0.27|          Unknown|       Cash|   2023-04-29|          108.2809|\n",
            "|   2169|    Carolyn Daniel|    Electronics| 14.09|2023-10-07|     Delivered|    0.25|         Grayside|Credit Card|   2021-05-09|10.567499999999999|\n",
            "|   6313|       Patty Perez|      Groceries| 79.83|2023-06-27|     Cancelled|    0.12|      Richardland|Credit Card|   2021-04-25|           70.2504|\n",
            "|   6155|Jonathan Wilkerson|        Fashion|882.68|2024-10-14|     Cancelled|    0.27|          Unknown|       Cash|   2021-06-20| 644.3563999999999|\n",
            "|   9830|       Kevin Hurst|          Books|870.55|2024-04-08|     Delivered|    0.22|      Jeffreyberg|     Wallet|   2022-08-02|           679.029|\n",
            "|   9085| Anthony Rodriguez|      Groceries|921.73|2024-10-02|     Cancelled|    0.03|        Port Erin|        UPI|   2022-12-15| 894.0781000000001|\n",
            "|   2040|     Kyle Mcdonald|           Toys|327.52|2023-12-15|      Returned|    0.06|Lake Jenniferside|     Wallet|   2021-07-21|307.86879999999996|\n",
            "|   6573|    Jeffrey Chavez|          Books|676.02|2024-12-14|     Cancelled|    0.19|      Teresaburgh|     Wallet|   2022-07-30|          547.5762|\n",
            "|   2743|  Elizabeth Fowler|    Electronics| 47.06|2024-09-18|     Delivered|    0.13|   East Nathaniel|       Cash|   2021-02-07|           40.9422|\n",
            "|   9837|     Tammy Sellers|          Books| 46.15|2024-09-10|     Cancelled|    0.05|       Tracyville|        UPI|   2021-12-17|           43.8425|\n",
            "|   6038|     David Bradley|        Fashion|348.51|2023-08-03|      Returned|    0.23|    Lake Toddland|        UPI|   2022-09-07|268.35269999999997|\n",
            "|   3060|       John Pierce|           Toys|362.09|2023-12-25|      Returned|    0.03|       Brandtside|       Cash|   2023-05-09|351.22729999999996|\n",
            "|   4295|   Jennifer Powers|    Electronics|684.26|2024-03-19|     Cancelled|    0.21|         Lammouth|        UPI|   2020-12-06|          540.5654|\n",
            "|   5061|    George Chapman|    Electronics|251.89|2023-11-28|       Pending|    0.27|       North Chad|       Cash|   2023-02-07|183.87969999999999|\n",
            "+-------+------------------+---------------+------+----------+--------------+--------+-----------------+-----------+-------------+------------------+\n",
            "only showing top 20 rows\n",
            "\n",
            "+-------+-----------------+---------------+------+----------+--------------+--------+-----------------+-----------+-------------+------------------+\n",
            "|OrderID|     CustomerName|ProductCategory|Amount| OrderDate|DeliveryStatus|Discount|             City|PaymentMode|CustomerSince|       FinalAmount|\n",
            "+-------+-----------------+---------------+------+----------+--------------+--------+-----------------+-----------+-------------+------------------+\n",
            "|   2824|    Donald Walker|          Books|783.04|2024-12-26|      Returned|    0.15|     Lake Joyside|Credit Card|   2020-10-15|           665.584|\n",
            "|   7912|     Brandon Hall|      Groceries| 905.0|2024-09-12|     Cancelled|    0.03|    New Jamesside|     Wallet|   2022-03-15|            877.85|\n",
            "|   4611|     Donald Booth|        Fashion|657.96|2025-01-12|      Returned|    0.01|     Lake Roberto|     Wallet|   2021-08-07|          651.3804|\n",
            "|   3547|   Phillip Garcia|        Fashion|606.89|2024-03-24|      Returned|    0.15| West Melanieview|     Wallet|   2020-08-08|          515.8565|\n",
            "|   8527|     Valerie Gray|           Toys| 77.87|2024-08-04|     Delivered|    0.17|        Mariastad|       Cash|   2022-11-15| 64.63210000000001|\n",
            "|   4150|      Amber Perez|          Books|352.37|2024-01-13|     Cancelled|    0.24|  Port Jesseville|       Cash|   2022-01-13|          267.8012|\n",
            "|   2169|   Carolyn Daniel|    Electronics| 14.09|2023-10-07|     Delivered|    0.25|         Grayside|Credit Card|   2021-05-09|10.567499999999999|\n",
            "|   6313|      Patty Perez|      Groceries| 79.83|2023-06-27|     Cancelled|    0.12|      Richardland|Credit Card|   2021-04-25|           70.2504|\n",
            "|   9830|      Kevin Hurst|          Books|870.55|2024-04-08|     Delivered|    0.22|      Jeffreyberg|     Wallet|   2022-08-02|           679.029|\n",
            "|   9085|Anthony Rodriguez|      Groceries|921.73|2024-10-02|     Cancelled|    0.03|        Port Erin|        UPI|   2022-12-15| 894.0781000000001|\n",
            "|   2040|    Kyle Mcdonald|           Toys|327.52|2023-12-15|      Returned|    0.06|Lake Jenniferside|     Wallet|   2021-07-21|307.86879999999996|\n",
            "|   6573|   Jeffrey Chavez|          Books|676.02|2024-12-14|     Cancelled|    0.19|      Teresaburgh|     Wallet|   2022-07-30|          547.5762|\n",
            "|   2743| Elizabeth Fowler|    Electronics| 47.06|2024-09-18|     Delivered|    0.13|   East Nathaniel|       Cash|   2021-02-07|           40.9422|\n",
            "|   9837|    Tammy Sellers|          Books| 46.15|2024-09-10|     Cancelled|    0.05|       Tracyville|        UPI|   2021-12-17|           43.8425|\n",
            "|   6038|    David Bradley|        Fashion|348.51|2023-08-03|      Returned|    0.23|    Lake Toddland|        UPI|   2022-09-07|268.35269999999997|\n",
            "|   3060|      John Pierce|           Toys|362.09|2023-12-25|      Returned|    0.03|       Brandtside|       Cash|   2023-05-09|351.22729999999996|\n",
            "|   4295|  Jennifer Powers|    Electronics|684.26|2024-03-19|     Cancelled|    0.21|         Lammouth|        UPI|   2020-12-06|          540.5654|\n",
            "|   5061|   George Chapman|    Electronics|251.89|2023-11-28|       Pending|    0.27|       North Chad|       Cash|   2023-02-07|183.87969999999999|\n",
            "|   1964|     Taylor Heath|           Toys| 578.5|2023-07-28|     Cancelled|    0.01|   West Elizabeth|       Cash|   2021-04-30|           572.715|\n",
            "|   2612| Nicholas Mcbride|        Fashion|219.05|2023-08-26|     Delivered|    0.27|       East James|        UPI|   2022-04-29|          159.9065|\n",
            "+-------+-----------------+---------------+------+----------+--------------+--------+-----------------+-----------+-------------+------------------+\n",
            "only showing top 20 rows\n",
            "\n"
          ]
        }
      ]
    },
    {
      "cell_type": "code",
      "source": [
        "# Tag high-value customers (Amount > 800)\n",
        "df_tagged = df.withColumn(\"CustomerType\", when(col(\"Amount\") > 800, \"High-Value\").otherwise(\"Regular\")).show(5)"
      ],
      "metadata": {
        "colab": {
          "base_uri": "https://localhost:8080/"
        },
        "id": "brwQyNl1D8qB",
        "outputId": "9ef1539a-1161-4026-d25c-b2efd5b75b68"
      },
      "execution_count": 32,
      "outputs": [
        {
          "output_type": "stream",
          "name": "stdout",
          "text": [
            "+-------+--------------+---------------+------+----------+--------------+--------+----------------+-----------+-------------+-----------------+------------+\n",
            "|OrderID|  CustomerName|ProductCategory|Amount| OrderDate|DeliveryStatus|Discount|            City|PaymentMode|CustomerSince|      FinalAmount|CustomerType|\n",
            "+-------+--------------+---------------+------+----------+--------------+--------+----------------+-----------+-------------+-----------------+------------+\n",
            "|   2824| Donald Walker|          Books|783.04|2024-12-26|      Returned|    0.15|    Lake Joyside|Credit Card|   2020-10-15|          665.584|     Regular|\n",
            "|   7912|  Brandon Hall|      Groceries| 905.0|2024-09-12|     Cancelled|    0.03|   New Jamesside|     Wallet|   2022-03-15|           877.85|  High-Value|\n",
            "|   4611|  Donald Booth|        Fashion|657.96|2025-01-12|      Returned|    0.01|    Lake Roberto|     Wallet|   2021-08-07|         651.3804|     Regular|\n",
            "|   3547|Phillip Garcia|        Fashion|606.89|2024-03-24|      Returned|    0.15|West Melanieview|     Wallet|   2020-08-08|         515.8565|     Regular|\n",
            "|   8527|  Valerie Gray|           Toys| 77.87|2024-08-04|     Delivered|    0.17|       Mariastad|       Cash|   2022-11-15|64.63210000000001|     Regular|\n",
            "+-------+--------------+---------------+------+----------+--------------+--------+----------------+-----------+-------------+-----------------+------------+\n",
            "only showing top 5 rows\n",
            "\n"
          ]
        }
      ]
    },
    {
      "cell_type": "code",
      "source": [
        "# Task 6: Date & Time Functions\n",
        "# Ensure OrderDate is in date format\n",
        "df = df.withColumn(\"OrderDate\", to_date(col(\"OrderDate\"), \"yyyy-MM-dd\"))\n",
        "df = df.withColumn(\"CustomerSince\", to_date(col(\"CustomerSince\"), \"yyyy-MM-dd\"))"
      ],
      "metadata": {
        "id": "pV_FeGGSFGhz"
      },
      "execution_count": 33,
      "outputs": []
    },
    {
      "cell_type": "code",
      "source": [
        "# Extract year and month from OrderDate\n",
        "df_date = df.withColumn(\"OrderYear\", year(col(\"OrderDate\"))).withColumn(\"OrderMonth\", month(col(\"OrderDate\")))\n",
        "df_date.show(5)"
      ],
      "metadata": {
        "colab": {
          "base_uri": "https://localhost:8080/"
        },
        "id": "9EM0UVtVFPhT",
        "outputId": "6f0ad81e-25ac-41ae-ccfb-d7af5e73344d"
      },
      "execution_count": 34,
      "outputs": [
        {
          "output_type": "stream",
          "name": "stdout",
          "text": [
            "+-------+--------------+---------------+------+----------+--------------+--------+----------------+-----------+-------------+-----------------+---------+----------+\n",
            "|OrderID|  CustomerName|ProductCategory|Amount| OrderDate|DeliveryStatus|Discount|            City|PaymentMode|CustomerSince|      FinalAmount|OrderYear|OrderMonth|\n",
            "+-------+--------------+---------------+------+----------+--------------+--------+----------------+-----------+-------------+-----------------+---------+----------+\n",
            "|   2824| Donald Walker|          Books|783.04|2024-12-26|      Returned|    0.15|    Lake Joyside|Credit Card|   2020-10-15|          665.584|     2024|        12|\n",
            "|   7912|  Brandon Hall|      Groceries| 905.0|2024-09-12|     Cancelled|    0.03|   New Jamesside|     Wallet|   2022-03-15|           877.85|     2024|         9|\n",
            "|   4611|  Donald Booth|        Fashion|657.96|2025-01-12|      Returned|    0.01|    Lake Roberto|     Wallet|   2021-08-07|         651.3804|     2025|         1|\n",
            "|   3547|Phillip Garcia|        Fashion|606.89|2024-03-24|      Returned|    0.15|West Melanieview|     Wallet|   2020-08-08|         515.8565|     2024|         3|\n",
            "|   8527|  Valerie Gray|           Toys| 77.87|2024-08-04|     Delivered|    0.17|       Mariastad|       Cash|   2022-11-15|64.63210000000001|     2024|         8|\n",
            "+-------+--------------+---------------+------+----------+--------------+--------+----------------+-----------+-------------+-----------------+---------+----------+\n",
            "only showing top 5 rows\n",
            "\n"
          ]
        }
      ]
    },
    {
      "cell_type": "code",
      "source": [
        "# Calculate loyalty in years\n",
        "df_loyalty = df_date.withColumn(\"LoyaltyYears\", (datediff(current_date(), col(\"CustomerSince\")) / 365).cast(\"int\")).show(5)"
      ],
      "metadata": {
        "colab": {
          "base_uri": "https://localhost:8080/"
        },
        "id": "DvD-Gmv-FVdE",
        "outputId": "7ec28e9b-8118-42de-b1e5-a785dd562dc2"
      },
      "execution_count": 35,
      "outputs": [
        {
          "output_type": "stream",
          "name": "stdout",
          "text": [
            "+-------+--------------+---------------+------+----------+--------------+--------+----------------+-----------+-------------+-----------------+---------+----------+------------+\n",
            "|OrderID|  CustomerName|ProductCategory|Amount| OrderDate|DeliveryStatus|Discount|            City|PaymentMode|CustomerSince|      FinalAmount|OrderYear|OrderMonth|LoyaltyYears|\n",
            "+-------+--------------+---------------+------+----------+--------------+--------+----------------+-----------+-------------+-----------------+---------+----------+------------+\n",
            "|   2824| Donald Walker|          Books|783.04|2024-12-26|      Returned|    0.15|    Lake Joyside|Credit Card|   2020-10-15|          665.584|     2024|        12|           4|\n",
            "|   7912|  Brandon Hall|      Groceries| 905.0|2024-09-12|     Cancelled|    0.03|   New Jamesside|     Wallet|   2022-03-15|           877.85|     2024|         9|           3|\n",
            "|   4611|  Donald Booth|        Fashion|657.96|2025-01-12|      Returned|    0.01|    Lake Roberto|     Wallet|   2021-08-07|         651.3804|     2025|         1|           3|\n",
            "|   3547|Phillip Garcia|        Fashion|606.89|2024-03-24|      Returned|    0.15|West Melanieview|     Wallet|   2020-08-08|         515.8565|     2024|         3|           4|\n",
            "|   8527|  Valerie Gray|           Toys| 77.87|2024-08-04|     Delivered|    0.17|       Mariastad|       Cash|   2022-11-15|64.63210000000001|     2024|         8|           2|\n",
            "+-------+--------------+---------------+------+----------+--------------+--------+----------------+-----------+-------------+-----------------+---------+----------+------------+\n",
            "only showing top 5 rows\n",
            "\n"
          ]
        }
      ]
    },
    {
      "cell_type": "code",
      "source": [
        "# Task 7: Joins and Unions\n",
        "# Create city-region mapping DataFrame\n",
        "region_data = [(\"Lake Joyside\", \"East\"), (\"New Jamesside\", \"West\"), (\"Lake Roberto\", \"Central\")]\n",
        "region_df = spark.createDataFrame(region_data, [\"City\", \"Region\"])\n",
        "region_df.show()"
      ],
      "metadata": {
        "colab": {
          "base_uri": "https://localhost:8080/"
        },
        "id": "VY-RBOF7Fi6t",
        "outputId": "e410a897-3038-4857-fdf6-244b8e2dd27f"
      },
      "execution_count": 36,
      "outputs": [
        {
          "output_type": "stream",
          "name": "stdout",
          "text": [
            "+-------------+-------+\n",
            "|         City| Region|\n",
            "+-------------+-------+\n",
            "| Lake Joyside|   East|\n",
            "|New Jamesside|   West|\n",
            "| Lake Roberto|Central|\n",
            "+-------------+-------+\n",
            "\n"
          ]
        }
      ]
    },
    {
      "cell_type": "code",
      "source": [
        "# Inner join\n",
        "df_inner = df.join(region_df, on=\"City\", how=\"inner\")\n",
        "df_inner.show(5)"
      ],
      "metadata": {
        "colab": {
          "base_uri": "https://localhost:8080/"
        },
        "id": "Jx3fmbFKF7UI",
        "outputId": "c9353af5-58a8-4b75-dfe0-84f0ff359dcd"
      },
      "execution_count": 38,
      "outputs": [
        {
          "output_type": "stream",
          "name": "stdout",
          "text": [
            "+-------------+-------+-------------+---------------+------+----------+--------------+--------+-----------+-------------+-----------+-------+\n",
            "|         City|OrderID| CustomerName|ProductCategory|Amount| OrderDate|DeliveryStatus|Discount|PaymentMode|CustomerSince|FinalAmount| Region|\n",
            "+-------------+-------+-------------+---------------+------+----------+--------------+--------+-----------+-------------+-----------+-------+\n",
            "| Lake Joyside|   2824|Donald Walker|          Books|783.04|2024-12-26|      Returned|    0.15|Credit Card|   2020-10-15|    665.584|   East|\n",
            "|New Jamesside|   7912| Brandon Hall|      Groceries| 905.0|2024-09-12|     Cancelled|    0.03|     Wallet|   2022-03-15|     877.85|   West|\n",
            "| Lake Roberto|   4611| Donald Booth|        Fashion|657.96|2025-01-12|      Returned|    0.01|     Wallet|   2021-08-07|   651.3804|Central|\n",
            "+-------------+-------+-------------+---------------+------+----------+--------------+--------+-----------+-------------+-----------+-------+\n",
            "\n"
          ]
        }
      ]
    },
    {
      "cell_type": "code",
      "source": [
        "# Left join\n",
        "df_left = df.join(region_df, on=\"City\", how=\"left\")\n",
        "df_left.show(5)"
      ],
      "metadata": {
        "colab": {
          "base_uri": "https://localhost:8080/"
        },
        "id": "_JHvcm_MGCKZ",
        "outputId": "bbee0390-5124-4b4c-9ec4-e35af2f66ada"
      },
      "execution_count": 39,
      "outputs": [
        {
          "output_type": "stream",
          "name": "stdout",
          "text": [
            "+----------------+-------+--------------+---------------+------+----------+--------------+--------+-----------+-------------+-----------+-------+\n",
            "|            City|OrderID|  CustomerName|ProductCategory|Amount| OrderDate|DeliveryStatus|Discount|PaymentMode|CustomerSince|FinalAmount| Region|\n",
            "+----------------+-------+--------------+---------------+------+----------+--------------+--------+-----------+-------------+-----------+-------+\n",
            "| Port Jesseville|   4150|   Amber Perez|          Books|352.37|2024-01-13|     Cancelled|    0.24|       Cash|   2022-01-13|   267.8012|   NULL|\n",
            "|    Lake Joyside|   2824| Donald Walker|          Books|783.04|2024-12-26|      Returned|    0.15|Credit Card|   2020-10-15|    665.584|   East|\n",
            "|    Lake Roberto|   4611|  Donald Booth|        Fashion|657.96|2025-01-12|      Returned|    0.01|     Wallet|   2021-08-07|   651.3804|Central|\n",
            "|West Melanieview|   3547|Phillip Garcia|        Fashion|606.89|2024-03-24|      Returned|    0.15|     Wallet|   2020-08-08|   515.8565|   NULL|\n",
            "|   New Jamesside|   7912|  Brandon Hall|      Groceries| 905.0|2024-09-12|     Cancelled|    0.03|     Wallet|   2022-03-15|     877.85|   West|\n",
            "+----------------+-------+--------------+---------------+------+----------+--------------+--------+-----------+-------------+-----------+-------+\n",
            "only showing top 5 rows\n",
            "\n"
          ]
        }
      ]
    },
    {
      "cell_type": "code",
      "source": [
        "# Union orders from 2023 and 2024\n",
        "df_2023 = df.filter(year(\"OrderDate\") == 2023)\n",
        "df_2024 = df.filter(year(\"OrderDate\") == 2024)\n",
        "df_union = df_2023.union(df_2024)\n",
        "df_union.show(5)"
      ],
      "metadata": {
        "colab": {
          "base_uri": "https://localhost:8080/"
        },
        "id": "OJFL-zPIGKXy",
        "outputId": "fa091c3b-da6e-40ed-9f1e-e31f256e6887"
      },
      "execution_count": 40,
      "outputs": [
        {
          "output_type": "stream",
          "name": "stdout",
          "text": [
            "+-------+--------------+---------------+------+----------+--------------+--------+-----------------+-----------+-------------+------------------+\n",
            "|OrderID|  CustomerName|ProductCategory|Amount| OrderDate|DeliveryStatus|Discount|             City|PaymentMode|CustomerSince|       FinalAmount|\n",
            "+-------+--------------+---------------+------+----------+--------------+--------+-----------------+-----------+-------------+------------------+\n",
            "|   2169|Carolyn Daniel|    Electronics| 14.09|2023-10-07|     Delivered|    0.25|         Grayside|Credit Card|   2021-05-09|10.567499999999999|\n",
            "|   6313|   Patty Perez|      Groceries| 79.83|2023-06-27|     Cancelled|    0.12|      Richardland|Credit Card|   2021-04-25|           70.2504|\n",
            "|   2040| Kyle Mcdonald|           Toys|327.52|2023-12-15|      Returned|    0.06|Lake Jenniferside|     Wallet|   2021-07-21|307.86879999999996|\n",
            "|   6038| David Bradley|        Fashion|348.51|2023-08-03|      Returned|    0.23|    Lake Toddland|        UPI|   2022-09-07|268.35269999999997|\n",
            "|   3060|   John Pierce|           Toys|362.09|2023-12-25|      Returned|    0.03|       Brandtside|       Cash|   2023-05-09|351.22729999999996|\n",
            "+-------+--------------+---------------+------+----------+--------------+--------+-----------------+-----------+-------------+------------------+\n",
            "only showing top 5 rows\n",
            "\n"
          ]
        }
      ]
    },
    {
      "cell_type": "code",
      "source": [
        "# Task 8: Complex JSON Simulation\n",
        "# Convert each row to JSON string\n",
        "df_json = df.toJSON()"
      ],
      "metadata": {
        "id": "TRBirQp7GNDC"
      },
      "execution_count": 41,
      "outputs": []
    },
    {
      "cell_type": "code",
      "source": [
        "# Load JSON back into DataFrame\n",
        "df_loaded = spark.read.json(df_json)"
      ],
      "metadata": {
        "id": "fxziMFNhGSpq"
      },
      "execution_count": 42,
      "outputs": []
    },
    {
      "cell_type": "code",
      "source": [
        "# Exploding not required unless nested structure exists\n",
        "df_loaded.select(\"CustomerName\", \"Amount\", \"DeliveryStatus\").show()"
      ],
      "metadata": {
        "colab": {
          "base_uri": "https://localhost:8080/"
        },
        "id": "H8Ko_T2bGUBL",
        "outputId": "e62d49fb-cfee-4333-96fc-4833ed386c9d"
      },
      "execution_count": 43,
      "outputs": [
        {
          "output_type": "stream",
          "name": "stdout",
          "text": [
            "+------------------+------+--------------+\n",
            "|      CustomerName|Amount|DeliveryStatus|\n",
            "+------------------+------+--------------+\n",
            "|     Donald Walker|783.04|      Returned|\n",
            "|      Brandon Hall| 905.0|     Cancelled|\n",
            "|      Donald Booth|657.96|      Returned|\n",
            "|    Phillip Garcia|606.89|      Returned|\n",
            "|      Valerie Gray| 77.87|     Delivered|\n",
            "|       Amber Perez|352.37|     Cancelled|\n",
            "|        Roy Martin|148.33|     Cancelled|\n",
            "|    Carolyn Daniel| 14.09|     Delivered|\n",
            "|       Patty Perez| 79.83|     Cancelled|\n",
            "|Jonathan Wilkerson|882.68|     Cancelled|\n",
            "|       Kevin Hurst|870.55|     Delivered|\n",
            "| Anthony Rodriguez|921.73|     Cancelled|\n",
            "|     Kyle Mcdonald|327.52|      Returned|\n",
            "|    Jeffrey Chavez|676.02|     Cancelled|\n",
            "|  Elizabeth Fowler| 47.06|     Delivered|\n",
            "|     Tammy Sellers| 46.15|     Cancelled|\n",
            "|     David Bradley|348.51|      Returned|\n",
            "|       John Pierce|362.09|      Returned|\n",
            "|   Jennifer Powers|684.26|     Cancelled|\n",
            "|    George Chapman|251.89|       Pending|\n",
            "+------------------+------+--------------+\n",
            "only showing top 20 rows\n",
            "\n"
          ]
        }
      ]
    },
    {
      "cell_type": "code",
      "source": [
        "# Task 9: Applying Functions (UDF)\n",
        "from pyspark.sql.functions import udf\n",
        "from pyspark.sql.types import StringType\n",
        "\n",
        "# Function to tag orders\n",
        "def order_tag(amount):\n",
        "    if amount > 800:\n",
        "        return \"Big\"\n",
        "    elif amount > 300:\n",
        "        return \"Medium\"\n",
        "    else:\n",
        "        return \"Small\"\n",
        "\n",
        "# Register UDF\n",
        "order_tag_udf = udf(order_tag, StringType())\n",
        "\n",
        "# Apply UDF\n",
        "df_tagged_orders = df.withColumn(\"OrderSize\", order_tag_udf(col(\"Amount\")))\n",
        "df_tagged_orders.select(\"OrderID\", \"Amount\", \"OrderSize\").show()\n"
      ],
      "metadata": {
        "colab": {
          "base_uri": "https://localhost:8080/"
        },
        "id": "YPQTorP9GYxb",
        "outputId": "07ff9f0f-bde4-4d41-cb57-f0ee64a525a3"
      },
      "execution_count": 44,
      "outputs": [
        {
          "output_type": "stream",
          "name": "stdout",
          "text": [
            "+-------+------+---------+\n",
            "|OrderID|Amount|OrderSize|\n",
            "+-------+------+---------+\n",
            "|   2824|783.04|   Medium|\n",
            "|   7912| 905.0|      Big|\n",
            "|   4611|657.96|   Medium|\n",
            "|   3547|606.89|   Medium|\n",
            "|   8527| 77.87|    Small|\n",
            "|   4150|352.37|   Medium|\n",
            "|   5554|148.33|    Small|\n",
            "|   2169| 14.09|    Small|\n",
            "|   6313| 79.83|    Small|\n",
            "|   6155|882.68|      Big|\n",
            "|   9830|870.55|      Big|\n",
            "|   9085|921.73|      Big|\n",
            "|   2040|327.52|   Medium|\n",
            "|   6573|676.02|   Medium|\n",
            "|   2743| 47.06|    Small|\n",
            "|   9837| 46.15|    Small|\n",
            "|   6038|348.51|   Medium|\n",
            "|   3060|362.09|   Medium|\n",
            "|   4295|684.26|   Medium|\n",
            "|   5061|251.89|    Small|\n",
            "+-------+------+---------+\n",
            "only showing top 20 rows\n",
            "\n"
          ]
        }
      ]
    },
    {
      "cell_type": "code",
      "source": [],
      "metadata": {
        "id": "XGniWb7GGgTs"
      },
      "execution_count": null,
      "outputs": []
    }
  ]
}