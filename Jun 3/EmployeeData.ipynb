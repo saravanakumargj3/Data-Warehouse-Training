{
  "nbformat": 4,
  "nbformat_minor": 0,
  "metadata": {
    "colab": {
      "provenance": []
    },
    "kernelspec": {
      "name": "python3",
      "display_name": "Python 3"
    },
    "language_info": {
      "name": "python"
    }
  },
  "cells": [
    {
      "cell_type": "code",
      "execution_count": 2,
      "metadata": {
        "id": "U_bXwISyGXE1"
      },
      "outputs": [],
      "source": [
        "# Import SparkSession\n",
        "from pyspark.sql import SparkSession\n",
        "\n",
        "# Create SparkSession\n",
        "spark = SparkSession.builder.appName(\"EmployeeDataAnalysis\").getOrCreate()\n"
      ]
    },
    {
      "cell_type": "code",
      "source": [
        "# from google.colab import files\n",
        "# uploaded = files.upload()\n",
        "#instead of using google drive, you can alos use upload option\n",
        "\n",
        "#drive:\n",
        "from google.colab import drive\n",
        "drive.mount('/content/drive')\n",
        "df = spark.read.csv(\"/content/drive/MyDrive/Copy of large_employee_dataset.csv\", header=True, inferSchema=True)\n",
        "\n",
        "# Show schema to verify\n",
        "df.printSchema()"
      ],
      "metadata": {
        "colab": {
          "base_uri": "https://localhost:8080/"
        },
        "id": "q7N9w4zqHMST",
        "outputId": "e8c12e2c-6af8-4a36-d66a-1c01ded69bf7"
      },
      "execution_count": 5,
      "outputs": [
        {
          "output_type": "stream",
          "name": "stdout",
          "text": [
            "Drive already mounted at /content/drive; to attempt to forcibly remount, call drive.mount(\"/content/drive\", force_remount=True).\n",
            "root\n",
            " |-- EmployeeID: integer (nullable = true)\n",
            " |-- Name: string (nullable = true)\n",
            " |-- Age: integer (nullable = true)\n",
            " |-- Department: string (nullable = true)\n",
            " |-- Salary: integer (nullable = true)\n",
            " |-- JoiningDate: date (nullable = true)\n",
            " |-- Status: string (nullable = true)\n",
            " |-- City: string (nullable = true)\n",
            "\n"
          ]
        }
      ]
    },
    {
      "cell_type": "code",
      "source": [
        "# 1. Show the top 10 rows\n",
        "df.show(10)"
      ],
      "metadata": {
        "colab": {
          "base_uri": "https://localhost:8080/"
        },
        "id": "Gi3LVcWMIkLI",
        "outputId": "d52df59f-24cf-410a-8a88-aef28b82474c"
      },
      "execution_count": 6,
      "outputs": [
        {
          "output_type": "stream",
          "name": "stdout",
          "text": [
            "+----------+--------------------+---+----------+------+-----------+--------+------------+\n",
            "|EmployeeID|                Name|Age|Department|Salary|JoiningDate|  Status|        City|\n",
            "+----------+--------------------+---+----------+------+-----------+--------+------------+\n",
            "|      4128|     Charles Johnson| 52|        HR| 64039| 2018-07-07|Resigned|   Allentown|\n",
            "|      6094|       Dylan Camacho| 57| Marketing| 34686| 2015-08-25|  Active| Anthonyfort|\n",
            "|      5883| Mr. Ryan Bowman Jr.| 29|   Finance| 64541| 2025-03-11|On Leave|   Gilesstad|\n",
            "|      9146|          Brian Ball| 24|     Sales| 87831| 2015-10-01|Resigned|Jenniferfurt|\n",
            "|      1918|       Angela Hooper| 26|   Finance|108773| 2019-08-14|On Leave|Lake Amystad|\n",
            "|      4600|Alexander Johnson...| 45|     Sales| 75671| 2016-04-21|On Leave|  Russohaven|\n",
            "|      6253|         Steven Lane| 47|   Finance| 64982| 2021-07-25|  Active| East Robert|\n",
            "|      8278|       Riley Johnson| 49|        HR| 43449| 2015-08-03|Resigned|  New Thomas|\n",
            "|      8520|    Emily Washington| 43|   Finance| 33851| 2021-11-30|Resigned| West Ashley|\n",
            "|      1298|     Valerie Fleming| 42| Marketing| 70137| 2019-12-08|Resigned| Caseborough|\n",
            "+----------+--------------------+---+----------+------+-----------+--------+------------+\n",
            "only showing top 10 rows\n",
            "\n"
          ]
        }
      ]
    },
    {
      "cell_type": "code",
      "source": [
        "# 2. Count the total number of employees\n",
        "df.count()\n"
      ],
      "metadata": {
        "colab": {
          "base_uri": "https://localhost:8080/"
        },
        "id": "sYHdPK0uIwKe",
        "outputId": "72c51588-cc24-46b9-955b-ad410b37f327"
      },
      "execution_count": 7,
      "outputs": [
        {
          "output_type": "execute_result",
          "data": {
            "text/plain": [
              "500"
            ]
          },
          "metadata": {},
          "execution_count": 7
        }
      ]
    },
    {
      "cell_type": "code",
      "source": [
        "# 3. Display unique departments\n",
        "df.select(\"Department\").distinct().show()\n"
      ],
      "metadata": {
        "colab": {
          "base_uri": "https://localhost:8080/"
        },
        "id": "ON22cl0MI5yT",
        "outputId": "0637e026-d99d-4c6e-96b9-1a4fe8b1559a"
      },
      "execution_count": 8,
      "outputs": [
        {
          "output_type": "stream",
          "name": "stdout",
          "text": [
            "+----------+\n",
            "|Department|\n",
            "+----------+\n",
            "|     Sales|\n",
            "|        HR|\n",
            "|   Finance|\n",
            "| Marketing|\n",
            "|        IT|\n",
            "+----------+\n",
            "\n"
          ]
        }
      ]
    },
    {
      "cell_type": "code",
      "source": [
        "# 4. Filter all employees in the \"IT\" department\n",
        "df.filter(df.Department == \"IT\").show()\n"
      ],
      "metadata": {
        "colab": {
          "base_uri": "https://localhost:8080/"
        },
        "id": "tpvmYQ-eI_YR",
        "outputId": "bf21132f-2fc6-45a8-b937-cba3fd414b70"
      },
      "execution_count": 9,
      "outputs": [
        {
          "output_type": "stream",
          "name": "stdout",
          "text": [
            "+----------+-------------------+---+----------+------+-----------+--------+------------------+\n",
            "|EmployeeID|               Name|Age|Department|Salary|JoiningDate|  Status|              City|\n",
            "+----------+-------------------+---+----------+------+-----------+--------+------------------+\n",
            "|      6598|        Mary Henson| 58|        IT| 63951| 2021-08-25|  Active|       Port Tricia|\n",
            "|      8518|   Elizabeth Abbott| 22|        IT| 91732| 2022-11-05|  Active|       Douglasside|\n",
            "|      9506|        Thomas Dunn| 45|        IT| 90340| 2020-07-12|On Leave|    Lindseychester|\n",
            "|      9663|        Glenn Mason| 43|        IT|109189| 2020-03-27|On Leave|      Katelynburgh|\n",
            "|      2106|     Richard Bailey| 45|        IT| 30950| 2021-06-29|Resigned|        North John|\n",
            "|      8212|      Jacob Jackson| 35|        IT| 54812| 2020-09-18|On Leave|South Veronicastad|\n",
            "|      6354|     Nicole Gilmore| 35|        IT|104202| 2018-05-04|  Active|       East Joseph|\n",
            "|      5716|         David Wang| 49|        IT| 94317| 2016-03-12|Resigned|          Linmouth|\n",
            "|      1181|       Joseph Clark| 33|        IT|117142| 2016-05-31|On Leave|        Carlosfurt|\n",
            "|      8302|      Debra Swanson| 47|        IT| 35236| 2023-10-25|Resigned|     Maciasborough|\n",
            "|      9542|      Jeffrey Frank| 34|        IT| 57182| 2024-01-28|On Leave|          Paulside|\n",
            "|      4100|Christopher Jimenez| 25|        IT| 65524| 2017-03-13|  Active|      North Tamara|\n",
            "|      5780|     Kevin Harrison| 26|        IT| 77259| 2024-03-28|  Active|    New Laurietown|\n",
            "|      5572|    Andrew Harrison| 42|        IT|118992| 2021-12-08|  Active|      West Matthew|\n",
            "|      6388|        Melissa Lee| 49|        IT| 74933| 2016-05-10|  Active|       Barbermouth|\n",
            "|      7984|         Paige Hall| 28|        IT| 67290| 2017-01-29|On Leave|         Jamesfort|\n",
            "|      6043|        Casey Olson| 37|        IT| 80199| 2022-01-27|  Active|         Brianland|\n",
            "|      2817|      Tony Mcdonald| 28|        IT| 92665| 2018-06-21|On Leave|       East Ashley|\n",
            "|      1982|     Jackie Herring| 37|        IT| 65014| 2023-11-13|On Leave|       Michaeltown|\n",
            "|      9259|       Shelly James| 35|        IT|106417| 2018-04-13|On Leave|  Port Laurieburgh|\n",
            "+----------+-------------------+---+----------+------+-----------+--------+------------------+\n",
            "only showing top 20 rows\n",
            "\n"
          ]
        }
      ]
    },
    {
      "cell_type": "code",
      "source": [
        "# 5. Show employees aged between 30 and 40\n",
        "df.filter((df.Age >= 30) & (df.Age <= 40)).show()\n"
      ],
      "metadata": {
        "colab": {
          "base_uri": "https://localhost:8080/"
        },
        "id": "gEKVrcdCJEzw",
        "outputId": "65b22be9-4662-43cc-d314-676f1483ffc9"
      },
      "execution_count": 10,
      "outputs": [
        {
          "output_type": "stream",
          "name": "stdout",
          "text": [
            "+----------+------------------+---+----------+------+-----------+--------+-------------------+\n",
            "|EmployeeID|              Name|Age|Department|Salary|JoiningDate|  Status|               City|\n",
            "+----------+------------------+---+----------+------+-----------+--------+-------------------+\n",
            "|      4676|Christopher Fuller| 30|        HR| 63042| 2021-04-30|Resigned|   South Donnaville|\n",
            "|      4136|     Jerome Torres| 30|   Finance| 68213| 2024-11-30|  Active|North Justinborough|\n",
            "|      1588|       Edwin Burns| 34|     Sales|108208| 2015-09-14|Resigned|        South David|\n",
            "|      8074|       Fred Brewer| 30|        HR|100736| 2021-06-06|On Leave|    Port Wendyville|\n",
            "|      3841|       April Allen| 36|        HR| 98845| 2020-05-20|  Active|      Rachelchester|\n",
            "|      8212|     Jacob Jackson| 35|        IT| 54812| 2020-09-18|On Leave| South Veronicastad|\n",
            "|      3325|       Brian Huynh| 40|   Finance| 59924| 2017-01-02|On Leave|           Johnside|\n",
            "|      6180|     Robert Cortez| 35| Marketing| 76109| 2023-12-31|Resigned|    Port Katiemouth|\n",
            "|      6354|    Nicole Gilmore| 35|        IT|104202| 2018-05-04|  Active|        East Joseph|\n",
            "|      6364|       James Hogan| 33|        HR| 79932| 2023-12-05|  Active|     Rodriguezshire|\n",
            "|      6913|   Dustin Williams| 34|   Finance| 91947| 2023-10-16|On Leave|      North Stephen|\n",
            "|      3115|   Benjamin Turner| 38|        HR| 99949| 2018-03-20|Resigned|     West Hollybury|\n",
            "|      7527|      Bobby Henson| 34|   Finance| 47038| 2022-11-24|On Leave|           Dianaton|\n",
            "|      5620|  Christina Reeves| 34|   Finance| 37858| 2024-01-16|On Leave|        Hannahhaven|\n",
            "|      9939|      Karen Hansen| 37|        HR|112082| 2021-07-30|Resigned|           New Tara|\n",
            "|      6509|     Joann Frazier| 38|   Finance| 87736| 2024-01-11|Resigned|  South Sabrinaview|\n",
            "|      6340|     Kenneth Smith| 38|     Sales|115731| 2018-12-29|Resigned|        Lake Sheila|\n",
            "|      1181|      Joseph Clark| 33|        IT|117142| 2016-05-31|On Leave|         Carlosfurt|\n",
            "|      7098|     Hayley Reeves| 38|        HR|115326| 2022-03-26|  Active|          Whiteview|\n",
            "|      9542|     Jeffrey Frank| 34|        IT| 57182| 2024-01-28|On Leave|           Paulside|\n",
            "+----------+------------------+---+----------+------+-----------+--------+-------------------+\n",
            "only showing top 20 rows\n",
            "\n"
          ]
        }
      ]
    },
    {
      "cell_type": "code",
      "source": [
        "# 6. Sort employees by Salary in descending order\n",
        "df.orderBy(df.Salary.desc()).show()\n"
      ],
      "metadata": {
        "colab": {
          "base_uri": "https://localhost:8080/"
        },
        "id": "4tjinlTCJJk4",
        "outputId": "64825143-35df-4d03-e887-3e68d8318edf"
      },
      "execution_count": 11,
      "outputs": [
        {
          "output_type": "stream",
          "name": "stdout",
          "text": [
            "+----------+--------------------+---+----------+------+-----------+--------+-------------------+\n",
            "|EmployeeID|                Name|Age|Department|Salary|JoiningDate|  Status|               City|\n",
            "+----------+--------------------+---+----------+------+-----------+--------+-------------------+\n",
            "|      8860|       Cody Williams| 30|        IT|119978| 2019-03-16|Resigned|         Susanville|\n",
            "|      4585|      Sandra Webster| 30|        HR|119940| 2022-10-21|On Leave|       Thompsonport|\n",
            "|      4667|         Ronald Hunt| 58|     Sales|119677| 2019-08-29|Resigned|    Griffithchester|\n",
            "|      1602|    Deborah Williams| 25|        HR|119397| 2023-09-26|On Leave|    Port Terrimouth|\n",
            "|      3374|        Amanda Green| 41|        HR|119316| 2021-04-08|Resigned|    West Shelleyton|\n",
            "|      6329|       Heidi Shaffer| 36|        HR|119165| 2020-01-14|Resigned|          New Alexa|\n",
            "|      2428|        Mary Stevens| 55|     Sales|119137| 2022-03-06|On Leave|         Travisport|\n",
            "|      1545|Brittany Christensen| 57|   Finance|119038| 2020-10-25|Resigned|        Matthewside|\n",
            "|      2581|    Alexandria Jones| 34|        IT|119009| 2017-01-22|On Leave|           Toniside|\n",
            "|      5572|     Andrew Harrison| 42|        IT|118992| 2021-12-08|  Active|       West Matthew|\n",
            "|      7459|    Abigail Robinson| 23|     Sales|118959| 2021-09-23|  Active|        Leslieville|\n",
            "|      7431|    Richard Mccarthy| 41|        IT|118682| 2025-02-12|On Leave|          Welchview|\n",
            "|      5998|       Bruce Serrano| 36|        HR|118641| 2019-02-02|  Active|    South Elizabeth|\n",
            "|      9714|          Kevin Reid| 37| Marketing|118584| 2015-10-03|  Active|     New Howardfort|\n",
            "|      1143|     Stacey Schwartz| 55|   Finance|118504| 2022-01-24|  Active|Lake Michaelchester|\n",
            "|      3580|         Jamie Baker| 34| Marketing|118225| 2017-07-20|  Active|        Michaelstad|\n",
            "|      9485|        Dennis Rivas| 43| Marketing|118187| 2019-05-26|On Leave|         South Mark|\n",
            "|      1943|          Roy Willis| 41|        HR|118172| 2016-03-05|  Active|     East Daisystad|\n",
            "|      5755|        Erika Ortega| 42|        IT|117517| 2023-04-16|On Leave|          Kellyfort|\n",
            "|      7350|         Jenna Patel| 50| Marketing|117237| 2016-04-11|On Leave|         Port Brian|\n",
            "+----------+--------------------+---+----------+------+-----------+--------+-------------------+\n",
            "only showing top 20 rows\n",
            "\n"
          ]
        }
      ]
    },
    {
      "cell_type": "code",
      "source": [
        "# 7. Get the average salary by department\n",
        "from pyspark.sql.functions import avg\n",
        "\n",
        "df.groupBy(\"Department\").agg(avg(\"Salary\").alias(\"AverageSalary\")).show()\n"
      ],
      "metadata": {
        "colab": {
          "base_uri": "https://localhost:8080/"
        },
        "id": "jxUwKGkjJPoq",
        "outputId": "765ce772-33f0-4c15-d4a4-52c4062afd26"
      },
      "execution_count": 12,
      "outputs": [
        {
          "output_type": "stream",
          "name": "stdout",
          "text": [
            "+----------+-----------------+\n",
            "|Department|    AverageSalary|\n",
            "+----------+-----------------+\n",
            "|     Sales|77488.54545454546|\n",
            "|        HR|76091.27450980392|\n",
            "|   Finance|72834.75630252101|\n",
            "| Marketing| 71958.1888888889|\n",
            "|        IT|73116.25555555556|\n",
            "+----------+-----------------+\n",
            "\n"
          ]
        }
      ]
    },
    {
      "cell_type": "code",
      "source": [
        "# 8. Count of employees by Status\n",
        "df.groupBy(\"Status\").count().show()\n"
      ],
      "metadata": {
        "colab": {
          "base_uri": "https://localhost:8080/"
        },
        "id": "OiIsHf-pJWps",
        "outputId": "dc737450-2a83-4c46-a373-5f47b3041711"
      },
      "execution_count": 13,
      "outputs": [
        {
          "output_type": "stream",
          "name": "stdout",
          "text": [
            "+--------+-----+\n",
            "|  Status|count|\n",
            "+--------+-----+\n",
            "|Resigned|  159|\n",
            "|  Active|  172|\n",
            "|On Leave|  169|\n",
            "+--------+-----+\n",
            "\n"
          ]
        }
      ]
    },
    {
      "cell_type": "code",
      "source": [
        "# 9. Highest salary in each city\n",
        "from pyspark.sql.functions import max\n",
        "\n",
        "df.groupBy(\"City\").agg(max(\"Salary\").alias(\"MaxSalary\")).show()\n"
      ],
      "metadata": {
        "colab": {
          "base_uri": "https://localhost:8080/"
        },
        "id": "nakNoyCqJaM8",
        "outputId": "38d1bae0-a33f-45a1-82cb-794f0b9c96de"
      },
      "execution_count": 14,
      "outputs": [
        {
          "output_type": "stream",
          "name": "stdout",
          "text": [
            "+----------------+---------+\n",
            "|            City|MaxSalary|\n",
            "+----------------+---------+\n",
            "|   Wilsonchester|    67025|\n",
            "|     Bradshawton|   111116|\n",
            "|       Steventon|    32009|\n",
            "|     Lake Alyssa|    84903|\n",
            "|      North Lisa|    57898|\n",
            "|    North Marvin|    66252|\n",
            "|     Jenniferton|    39907|\n",
            "|     Buckleyview|    50109|\n",
            "|     Burtonville|    98492|\n",
            "|    Johnsonmouth|    48799|\n",
            "|    South Joseph|    52456|\n",
            "|  Lindseychester|    90340|\n",
            "|   North Stephen|    91947|\n",
            "|Port Nicoleshire|    57537|\n",
            "|    Jerrychester|    53374|\n",
            "|  North Jennifer|    82486|\n",
            "|      Laurenstad|    44608|\n",
            "|West Brendanbury|    90698|\n",
            "|       Juliaberg|    50170|\n",
            "|       New James|    54378|\n",
            "+----------------+---------+\n",
            "only showing top 20 rows\n",
            "\n"
          ]
        }
      ]
    },
    {
      "cell_type": "code",
      "source": [
        "# 10. Total number of employees who joined each year\n",
        "from pyspark.sql.functions import year\n",
        "\n",
        "df.withColumn(\"JoiningYear\", year(\"JoiningDate\")).groupBy(\"JoiningYear\").count().show()\n"
      ],
      "metadata": {
        "colab": {
          "base_uri": "https://localhost:8080/"
        },
        "id": "1b_TKXFVJfdF",
        "outputId": "b55f9d51-4255-4375-bd9a-a8396bfe6a44"
      },
      "execution_count": 15,
      "outputs": [
        {
          "output_type": "stream",
          "name": "stdout",
          "text": [
            "+-----------+-----+\n",
            "|JoiningYear|count|\n",
            "+-----------+-----+\n",
            "|       2025|   27|\n",
            "|       2018|   52|\n",
            "|       2015|   37|\n",
            "|       2023|   47|\n",
            "|       2022|   49|\n",
            "|       2019|   52|\n",
            "|       2020|   56|\n",
            "|       2016|   49|\n",
            "|       2024|   38|\n",
            "|       2017|   44|\n",
            "|       2021|   49|\n",
            "+-----------+-----+\n",
            "\n"
          ]
        }
      ]
    },
    {
      "cell_type": "code",
      "source": [
        "# 11. Department-wise count of employees who are currently \"Active\"\n",
        "df.filter(df.Status == \"Active\").groupBy(\"Department\").count().show()\n"
      ],
      "metadata": {
        "colab": {
          "base_uri": "https://localhost:8080/"
        },
        "id": "xeOfYHWFJsUH",
        "outputId": "6312679d-8c6d-413f-c571-f3d7335eb1c3"
      },
      "execution_count": 16,
      "outputs": [
        {
          "output_type": "stream",
          "name": "stdout",
          "text": [
            "+----------+-----+\n",
            "|Department|count|\n",
            "+----------+-----+\n",
            "|     Sales|   32|\n",
            "|        HR|   37|\n",
            "|   Finance|   45|\n",
            "| Marketing|   32|\n",
            "|        IT|   26|\n",
            "+----------+-----+\n",
            "\n"
          ]
        }
      ]
    },
    {
      "cell_type": "code",
      "source": [
        "# 12. Average age of employees per department\n",
        "from pyspark.sql.functions import avg\n",
        "\n",
        "df.groupBy(\"Department\").agg(avg(\"Age\").alias(\"AverageAge\")).show()\n"
      ],
      "metadata": {
        "colab": {
          "base_uri": "https://localhost:8080/"
        },
        "id": "rPVhYuevJvo_",
        "outputId": "b964c713-313a-4426-db71-914bc51bfd81"
      },
      "execution_count": 17,
      "outputs": [
        {
          "output_type": "stream",
          "name": "stdout",
          "text": [
            "+----------+------------------+\n",
            "|Department|        AverageAge|\n",
            "+----------+------------------+\n",
            "|     Sales|40.535353535353536|\n",
            "|        HR| 41.46078431372549|\n",
            "|   Finance| 39.21008403361345|\n",
            "| Marketing| 41.82222222222222|\n",
            "|        IT| 38.68888888888889|\n",
            "+----------+------------------+\n",
            "\n"
          ]
        }
      ]
    },
    {
      "cell_type": "code",
      "source": [
        "df.select(\"City\").distinct().show(truncate=False) #show unique cities"
      ],
      "metadata": {
        "colab": {
          "base_uri": "https://localhost:8080/"
        },
        "id": "mt8H07fsKSU7",
        "outputId": "ca507201-a165-45b0-9480-70dae73f20ce"
      },
      "execution_count": 18,
      "outputs": [
        {
          "output_type": "stream",
          "name": "stdout",
          "text": [
            "+----------------+\n",
            "|City            |\n",
            "+----------------+\n",
            "|Wilsonchester   |\n",
            "|Bradshawton     |\n",
            "|Steventon       |\n",
            "|Lake Alyssa     |\n",
            "|North Lisa      |\n",
            "|North Marvin    |\n",
            "|Jenniferton     |\n",
            "|Buckleyview     |\n",
            "|Burtonville     |\n",
            "|Johnsonmouth    |\n",
            "|South Joseph    |\n",
            "|Lindseychester  |\n",
            "|North Stephen   |\n",
            "|Port Nicoleshire|\n",
            "|Jerrychester    |\n",
            "|North Jennifer  |\n",
            "|Laurenstad      |\n",
            "|West Brendanbury|\n",
            "|Juliaberg       |\n",
            "|New James       |\n",
            "+----------------+\n",
            "only showing top 20 rows\n",
            "\n"
          ]
        }
      ]
    },
    {
      "cell_type": "code",
      "source": [
        "# 13. Create another dataset with City and Region, and join it\n",
        "city_region_data = [\n",
        "    (\"East Robert\", \"East\"),\n",
        "    (\"Allentown\", \"West\"),\n",
        "    (\"Tonyamouth\", \"Midwest\"),\n",
        "    (\"Jenniferfurt\", \"South\"),\n",
        "    (\"North Brittany\", \"West\"),\n",
        "    (\"Gilesstad\", \"East\"),\n",
        "    (\"Port Mark\", \"West\"),\n",
        "    (\"West Ashley\", \"South\"),\n",
        "    (\"South Donnaville\", \"Midwest\"),\n",
        "    (\"Jillport\", \"South\"),\n",
        "    (\"Jimenezborough\", \"West\")\n",
        "]\n",
        "\n",
        "columns = [\"City\", \"Region\"]\n",
        "\n",
        "# Create DataFrame based on cities in our data\n",
        "region_df = spark.createDataFrame(city_region_data, columns)\n",
        "region_df.show()"
      ],
      "metadata": {
        "colab": {
          "base_uri": "https://localhost:8080/"
        },
        "id": "BjYACV9iKWrb",
        "outputId": "69a783fc-aeb1-48f9-f049-11c8f530ace9"
      },
      "execution_count": 22,
      "outputs": [
        {
          "output_type": "stream",
          "name": "stdout",
          "text": [
            "+----------------+-------+\n",
            "|            City| Region|\n",
            "+----------------+-------+\n",
            "|     East Robert|   East|\n",
            "|       Allentown|   West|\n",
            "|      Tonyamouth|Midwest|\n",
            "|    Jenniferfurt|  South|\n",
            "|  North Brittany|   West|\n",
            "|       Gilesstad|   East|\n",
            "|       Port Mark|   West|\n",
            "|     West Ashley|  South|\n",
            "|South Donnaville|Midwest|\n",
            "|        Jillport|  South|\n",
            "|  Jimenezborough|   West|\n",
            "+----------------+-------+\n",
            "\n"
          ]
        }
      ]
    },
    {
      "cell_type": "code",
      "source": [
        "# Join on City\n",
        "joined_df = df.join(region_df, on=\"City\", how=\"left\")\n",
        "\n",
        "joined_df.select(\"Name\", \"City\", \"Region\").show()\n",
        "#added region only to the above mentioned cities, so it may show null to other cities"
      ],
      "metadata": {
        "colab": {
          "base_uri": "https://localhost:8080/"
        },
        "id": "kbMyAX_qKlfF",
        "outputId": "b5475e58-57b8-41d2-d64c-2056cfb2890b"
      },
      "execution_count": 23,
      "outputs": [
        {
          "output_type": "stream",
          "name": "stdout",
          "text": [
            "+--------------------+-------------------+-------+\n",
            "|                Name|               City| Region|\n",
            "+--------------------+-------------------+-------+\n",
            "|         Steven Lane|        East Robert|   East|\n",
            "|     Charles Johnson|          Allentown|   West|\n",
            "|       Patrick Chung|         Tonyamouth|Midwest|\n",
            "|          Brian Ball|       Jenniferfurt|  South|\n",
            "|       Scott Burnett|     North Brittany|   West|\n",
            "| Mr. Ryan Bowman Jr.|          Gilesstad|   East|\n",
            "|       Michael Brown|          Port Mark|   West|\n",
            "|    Emily Washington|        West Ashley|  South|\n",
            "|  Christopher Fuller|   South Donnaville|Midwest|\n",
            "|    Johnathan Harmon|           Jillport|  South|\n",
            "|        Micheal Wade|     Jimenezborough|   West|\n",
            "|       Angela Hooper|       Lake Amystad|   NULL|\n",
            "|       Dylan Camacho|        Anthonyfort|   NULL|\n",
            "|       Brittany Kerr|        Bennettstad|   NULL|\n",
            "|     Isaiah Martinez|       Mcgeechester|   NULL|\n",
            "|     Valerie Fleming|        Caseborough|   NULL|\n",
            "|       Jerome Torres|North Justinborough|   NULL|\n",
            "|Alexander Johnson...|         Russohaven|   NULL|\n",
            "|       Riley Johnson|         New Thomas|   NULL|\n",
            "|     Tracy Hughes MD|       West Phillip|   NULL|\n",
            "+--------------------+-------------------+-------+\n",
            "only showing top 20 rows\n",
            "\n"
          ]
        }
      ]
    },
    {
      "cell_type": "code",
      "source": [
        "# 14. Group salaries by Region after the join\n",
        "joined_df.groupBy(\"Region\").agg(avg(\"Salary\").alias(\"AverageSalary\")).show()\n"
      ],
      "metadata": {
        "colab": {
          "base_uri": "https://localhost:8080/"
        },
        "id": "wBg5xRXwLCqy",
        "outputId": "5132a173-7756-4f0e-f394-4b1551469226"
      },
      "execution_count": 24,
      "outputs": [
        {
          "output_type": "stream",
          "name": "stdout",
          "text": [
            "+-------+-----------------+\n",
            "| Region|    AverageSalary|\n",
            "+-------+-----------------+\n",
            "|Midwest|          89732.5|\n",
            "|   NULL|74322.60531697342|\n",
            "|  South|          73116.0|\n",
            "|   East|          64761.5|\n",
            "|   West|          71155.5|\n",
            "+-------+-----------------+\n",
            "\n"
          ]
        }
      ]
    },
    {
      "cell_type": "code",
      "source": [
        "# 15. Calculate years of experience for each employee\n",
        "from pyspark.sql.functions import datediff, current_date, round\n",
        "\n",
        "df_with_exp = df.withColumn(\"ExperienceYears\", round(datediff(current_date(), df.JoiningDate) / 365))\n",
        "df_with_exp.select(\"Name\", \"JoiningDate\", \"ExperienceYears\").show()\n"
      ],
      "metadata": {
        "colab": {
          "base_uri": "https://localhost:8080/"
        },
        "id": "T_a9M1-EMVES",
        "outputId": "47c346a7-bc61-4b7e-ce42-f2d6eb181274"
      },
      "execution_count": 25,
      "outputs": [
        {
          "output_type": "stream",
          "name": "stdout",
          "text": [
            "+--------------------+-----------+---------------+\n",
            "|                Name|JoiningDate|ExperienceYears|\n",
            "+--------------------+-----------+---------------+\n",
            "|     Charles Johnson| 2018-07-07|            7.0|\n",
            "|       Dylan Camacho| 2015-08-25|           10.0|\n",
            "| Mr. Ryan Bowman Jr.| 2025-03-11|            0.0|\n",
            "|          Brian Ball| 2015-10-01|           10.0|\n",
            "|       Angela Hooper| 2019-08-14|            6.0|\n",
            "|Alexander Johnson...| 2016-04-21|            9.0|\n",
            "|         Steven Lane| 2021-07-25|            4.0|\n",
            "|       Riley Johnson| 2015-08-03|           10.0|\n",
            "|    Emily Washington| 2021-11-30|            4.0|\n",
            "|     Valerie Fleming| 2019-12-08|            5.0|\n",
            "|     Tracy Hughes MD| 2020-06-01|            5.0|\n",
            "|    Johnathan Harmon| 2021-03-09|            4.0|\n",
            "|       Michael Brown| 2023-10-21|            2.0|\n",
            "|       Scott Burnett| 2016-04-25|            9.0|\n",
            "|  Christopher Fuller| 2021-04-30|            4.0|\n",
            "|         Mary Henson| 2021-08-25|            4.0|\n",
            "|       Jerome Torres| 2024-11-30|            1.0|\n",
            "|     Isaiah Martinez| 2021-07-26|            4.0|\n",
            "|       Patrick Chung| 2024-07-05|            1.0|\n",
            "|        Micheal Wade| 2024-03-29|            1.0|\n",
            "+--------------------+-----------+---------------+\n",
            "only showing top 20 rows\n",
            "\n"
          ]
        }
      ]
    },
    {
      "cell_type": "code",
      "source": [
        "# 16. List all employees with more than 5 years of experience\n",
        "df_with_exp.filter(df_with_exp.ExperienceYears > 5).show()\n"
      ],
      "metadata": {
        "colab": {
          "base_uri": "https://localhost:8080/"
        },
        "id": "q86IFugxMaRa",
        "outputId": "1366d9b4-e815-4fa9-d963-9b401f4834c7"
      },
      "execution_count": 26,
      "outputs": [
        {
          "output_type": "stream",
          "name": "stdout",
          "text": [
            "+----------+--------------------+---+----------+------+-----------+--------+-----------------+---------------+\n",
            "|EmployeeID|                Name|Age|Department|Salary|JoiningDate|  Status|             City|ExperienceYears|\n",
            "+----------+--------------------+---+----------+------+-----------+--------+-----------------+---------------+\n",
            "|      4128|     Charles Johnson| 52|        HR| 64039| 2018-07-07|Resigned|        Allentown|            7.0|\n",
            "|      6094|       Dylan Camacho| 57| Marketing| 34686| 2015-08-25|  Active|      Anthonyfort|           10.0|\n",
            "|      9146|          Brian Ball| 24|     Sales| 87831| 2015-10-01|Resigned|     Jenniferfurt|           10.0|\n",
            "|      1918|       Angela Hooper| 26|   Finance|108773| 2019-08-14|On Leave|     Lake Amystad|            6.0|\n",
            "|      4600|Alexander Johnson...| 45|     Sales| 75671| 2016-04-21|On Leave|       Russohaven|            9.0|\n",
            "|      8278|       Riley Johnson| 49|        HR| 43449| 2015-08-03|Resigned|       New Thomas|           10.0|\n",
            "|      8989|       Scott Burnett| 48|     Sales| 93690| 2016-04-25|Resigned|   North Brittany|            9.0|\n",
            "|      2758|       Brittany Kerr| 58|     Sales| 71105| 2019-03-24|  Active|      Bennettstad|            6.0|\n",
            "|      1588|         Edwin Burns| 34|     Sales|108208| 2015-09-14|Resigned|      South David|           10.0|\n",
            "|      8729|       Mary Reynolds| 25|     Sales|112515| 2018-07-02|Resigned|    Lake Sethfort|            7.0|\n",
            "|      2039|           Erin Berg| 42| Marketing| 71886| 2018-04-27|On Leave|   Port Elizabeth|            7.0|\n",
            "|      8923|         Jason Hines| 59|   Finance| 38955| 2015-11-30|  Active|       Lindaville|           10.0|\n",
            "|      8423|Christopher Mcdaniel| 59|        HR|116819| 2015-06-03|  Active|     South Joshua|           10.0|\n",
            "|      6257|      Victoria Kelly| 57|   Finance| 65204| 2017-10-01|  Active|South Amandamouth|            8.0|\n",
            "|      6580|      Heather Nelson| 48|     Sales| 91699| 2015-06-03|Resigned|      Ronaldville|           10.0|\n",
            "|      4834|         Paul Porter| 53|     Sales| 87941| 2017-11-09|On Leave| Port Richardfurt|            8.0|\n",
            "|      5017|       Monique White| 49|   Finance| 42586| 2019-10-09|On Leave|       East James|            6.0|\n",
            "|      9710|       Jordan Harris| 51|     Sales| 34846| 2019-06-28|  Active|       Larsenside|            6.0|\n",
            "|      3325|         Brian Huynh| 40|   Finance| 59924| 2017-01-02|On Leave|         Johnside|            8.0|\n",
            "|      7916|          James West| 42|     Sales| 97746| 2016-07-28|  Active|         New John|            9.0|\n",
            "+----------+--------------------+---+----------+------+-----------+--------+-----------------+---------------+\n",
            "only showing top 20 rows\n",
            "\n"
          ]
        }
      ]
    }
  ]
}